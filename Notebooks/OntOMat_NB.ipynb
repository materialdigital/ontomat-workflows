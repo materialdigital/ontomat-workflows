{
 "cells": [
  {
   "cell_type": "code",
   "execution_count": 1,
   "id": "64e049ca-9513-4f7c-90a0-4e66a40db4ee",
   "metadata": {},
   "outputs": [],
   "source": [
    "from pyiron_workflow import Workflow"
   ]
  },
  {
   "cell_type": "code",
   "execution_count": 2,
   "id": "a5a849e1-389a-4263-bf21-04c61e411408",
   "metadata": {},
   "outputs": [],
   "source": [
    "@Workflow.wrap.as_function_node\n",
    "def HelloWorld(greeting=\"Hello\", subject=\"World\"):\n",
    "    hello = f\"{greeting} {subject}\"\n",
    "    return hello"
   ]
  },
  {
   "cell_type": "code",
   "execution_count": 3,
   "id": "baf8a6ec-9925-4998-b138-0d5a6fce5695",
   "metadata": {},
   "outputs": [
    {
     "data": {
      "text/plain": [
       "'Salutations World'"
      ]
     },
     "execution_count": 3,
     "metadata": {},
     "output_type": "execute_result"
    }
   ],
   "source": [
    "hello_node = HelloWorld()  # Instantiate a node instance\n",
    "hello_node(greeting=\"Salutations\")  # Use it just like a function"
   ]
  },
  {
   "cell_type": "code",
   "execution_count": 5,
   "id": "09bd4d72-7110-4cda-a249-25fa064d7d80",
   "metadata": {},
   "outputs": [
    {
     "name": "stdout",
     "output_type": "stream",
     "text": [
      "['greeting', 'subject']\n"
     ]
    },
    {
     "data": {
      "text/plain": [
       "'Salutations World'"
      ]
     },
     "execution_count": 5,
     "metadata": {},
     "output_type": "execute_result"
    }
   ],
   "source": [
    "print(hello_node.inputs.labels)\n",
    "\n",
    "hello_node.outputs.hello.value"
   ]
  },
  {
   "cell_type": "code",
   "execution_count": null,
   "id": "569f1c96-450b-43f0-8bad-73edb8ee7d25",
   "metadata": {},
   "outputs": [],
   "source": []
  }
 ],
 "metadata": {
  "kernelspec": {
   "display_name": "Python 3 (ipykernel)",
   "language": "python",
   "name": "python3"
  },
  "language_info": {
   "codemirror_mode": {
    "name": "ipython",
    "version": 3
   },
   "file_extension": ".py",
   "mimetype": "text/x-python",
   "name": "python",
   "nbconvert_exporter": "python",
   "pygments_lexer": "ipython3",
   "version": "3.13.7"
  }
 },
 "nbformat": 4,
 "nbformat_minor": 5
}
